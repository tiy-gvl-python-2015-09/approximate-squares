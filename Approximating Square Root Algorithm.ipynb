{
 "cells": [
  {
   "cell_type": "code",
   "execution_count": 60,
   "metadata": {
    "collapsed": false
   },
   "outputs": [],
   "source": [
    "import math\n",
    "import datetime"
   ]
  },
  {
   "cell_type": "markdown",
   "metadata": {},
   "source": [
    "### Algorithm from September"
   ]
  },
  {
   "cell_type": "code",
   "execution_count": 81,
   "metadata": {
    "collapsed": false
   },
   "outputs": [
    {
     "name": "stdout",
     "output_type": "stream",
     "text": [
      "977\n",
      "124.61684505606524\n",
      "66.22843831546669\n",
      "40.490204647125715\n",
      "32.30974868080663\n",
      "31.274150099121606\n",
      "31.257003918985795\n",
      "31.25699921617592\n",
      "0:00:00.000108\n"
     ]
    }
   ],
   "source": [
    "number = random.randint(1,5000)\n",
    "print(number)\n",
    "previous_number = number / 2\n",
    "previous_number_two = (previous_number + number/previous_number) / 2\n",
    "\n",
    "\n",
    "while previous_number - previous_number_two > abs(.01):\n",
    "    previous_number = (previous_number + number/previous_number) / 2 \n",
    "    previous_number_two = (previous_number + number/previous_number) / 2\n",
    "    print(previous_number_two)\n",
    "\n"
   ]
  },
  {
   "cell_type": "markdown",
   "metadata": {},
   "source": [
    "### new algorithm 12/14 - I've learned a lot"
   ]
  },
  {
   "cell_type": "markdown",
   "metadata": {},
   "source": [
    "While the last algorithm took me all night to figure out, this took me about five minutes. "
   ]
  },
  {
   "cell_type": "code",
   "execution_count": 83,
   "metadata": {
    "collapsed": false
   },
   "outputs": [],
   "source": [
    "def find_square_root(number):\n",
    "    start_time = datetime.datetime.now()\n",
    "    approximation = number / 2\n",
    "    next_guess = (number/approximation + approximation) / 2\n",
    "    while abs(next_guess**2 - number) > .01:\n",
    "        next_guess = (number/approximation + approximation) / 2\n",
    "        approximation = next_guess\n",
    "    return \"The approximate square root is {}.\".format(approximation)\n"
   ]
  },
  {
   "cell_type": "code",
   "execution_count": 84,
   "metadata": {
    "collapsed": false
   },
   "outputs": [
    {
     "data": {
      "text/plain": [
       "'The approximate square root is 1000.0000000000118.'"
      ]
     },
     "execution_count": 84,
     "metadata": {},
     "output_type": "execute_result"
    }
   ],
   "source": [
    "find_square_root(1000000)"
   ]
  },
  {
   "cell_type": "markdown",
   "metadata": {
    "collapsed": true
   },
   "source": [
    "### Hard Mode"
   ]
  },
  {
   "cell_type": "code",
   "execution_count": 181,
   "metadata": {
    "collapsed": false
   },
   "outputs": [],
   "source": [
    "def find_square_root_hardmode(number):\n",
    "    try:\n",
    "        math.sqrt(number)\n",
    "    except:\n",
    "        print(\"Please choose a positive number.\")\n",
    "    try: \n",
    "        1/number\n",
    "    except:\n",
    "        print(\"Please choose a positive number.\")\n",
    "    start_time = datetime.datetime.now()\n",
    "    approximation = number / 2\n",
    "    next_guess = (number/approximation + approximation) / 2\n",
    "    count = 0\n",
    "    while abs(next_guess**2 - number) > .01:\n",
    "        next_guess = (number/approximation + approximation) / 2\n",
    "        approximation = next_guess\n",
    "        count += 1\n",
    "        print(approximation, \"Guess: {}\".format(count))\n",
    "    return \"The approximate square root is {}.\".format(approximation)\n"
   ]
  },
  {
   "cell_type": "code",
   "execution_count": 183,
   "metadata": {
    "collapsed": false
   },
   "outputs": [
    {
     "name": "stdout",
     "output_type": "stream",
     "text": [
      "4750001.0 Guess: 1\n",
      "2375002.499999579 Guess: 2\n",
      "1187505.249995579 Guess: 3\n",
      "593760.6249624213 Guess: 4\n",
      "296896.312194901 Guess: 5\n",
      "148480.15380038513 Guess: 6\n",
      "74304.05851495282 Guess: 7\n",
      "37279.8823006327 Guess: 8\n",
      "18894.77028103597 Guess: 9\n",
      "9950.169766036022 Guess: 10\n",
      "5929.842462373829 Guess: 11\n",
      "4566.987400782416 Guess: 12\n",
      "4363.639574753039 Guess: 13\n",
      "4358.901518636979 Guess: 14\n",
      "4358.898943541434 Guess: 15\n"
     ]
    },
    {
     "data": {
      "text/plain": [
       "'The approximate square root is 4358.898943541434.'"
      ]
     },
     "execution_count": 183,
     "metadata": {},
     "output_type": "execute_result"
    }
   ],
   "source": [
    "find_square_root_hardmode(19000000)"
   ]
  },
  {
   "cell_type": "code",
   "execution_count": null,
   "metadata": {
    "collapsed": true
   },
   "outputs": [],
   "source": []
  }
 ],
 "metadata": {
  "kernelspec": {
   "display_name": "Python 3",
   "language": "python",
   "name": "python3"
  },
  "language_info": {
   "codemirror_mode": {
    "name": "ipython",
    "version": 3
   },
   "file_extension": ".py",
   "mimetype": "text/x-python",
   "name": "python",
   "nbconvert_exporter": "python",
   "pygments_lexer": "ipython3",
   "version": "3.5.0"
  }
 },
 "nbformat": 4,
 "nbformat_minor": 0
}
